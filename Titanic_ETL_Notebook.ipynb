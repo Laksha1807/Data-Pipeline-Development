{
 "cells": [
  {
   "cell_type": "markdown",
   "id": "31c34c6a",
   "metadata": {},
   "source": [
    "# 🚢 Titanic Dataset ETL Pipeline\n",
    "This notebook implements a complete ETL (Extract, Transform, Load) process on the Titanic dataset.\n",
    "\n",
    "### Steps Involved:\n",
    "1. Load the dataset\n",
    "2. Clean missing data\n",
    "3. Encode categorical variables\n",
    "4. Engineer new features\n",
    "5. Save the cleaned dataset"
   ]
  },
{
 "cell_type": "markdown",
 "id": "etl-visual",
 "metadata": {},
 "source": [
  "## 🔍 ETL Process Overview\n",
  "Below is a visual representation of the ETL pipeline:\n",
  "\n",
  "![ETL Process](ETL%20Process%20for%20Titanic%20Dataset%20-%20visual%20selection.png)"
 ]
},
  {
   "cell_type": "code",
   "execution_count": null,
   "id": "f2264f83",
   "metadata": {},
   "outputs": [],
   "source": [
    "import pandas as pd\n",
    "from sklearn.preprocessing import LabelEncoder\n",
    "import matplotlib.pyplot as plt\n",
    "import seaborn as sns\n",
    "\n",
    "# Load the dataset (assuming it's in the same directory)\n",
    "df = pd.read_csv('Titanic-Dataset.csv')\n",
    "df.head()"
   ]
  },
  {
   "cell_type": "markdown",
   "id": "c931ac0e",
   "metadata": {},
   "source": [
    "## 🧼 Step 1: Clean Missing Data"
   ]
  },
  {
   "cell_type": "code",
   "execution_count": null,
   "id": "4711b96a",
   "metadata": {},
   "outputs": [],
   "source": [
    "# Fill missing values\n",
    "df['Age'] = df['Age'].fillna(df['Age'].median())\n",
    "df['Embarked'] = df['Embarked'].fillna(df['Embarked'].mode()[0])\n",
    "df['Cabin'] = df['Cabin'].fillna('Unknown')\n",
    "\n",
    "# Drop unnecessary column\n",
    "df.drop(columns=['Ticket'], inplace=True)"
   ]
  },
  {
   "cell_type": "markdown",
   "id": "7461ecae",
   "metadata": {},
   "source": [
    "## 🔤 Step 2: Encode Categorical Variables"
   ]
  },
  {
   "cell_type": "code",
   "execution_count": null,
   "id": "11eada2b",
   "metadata": {},
   "outputs": [],
   "source": [
    "le = LabelEncoder()\n",
    "df['Sex'] = le.fit_transform(df['Sex'])\n",
    "df['Embarked'] = le.fit_transform(df['Embarked'])"
   ]
  },
  {
   "cell_type": "markdown",
   "id": "b5633391",
   "metadata": {},
   "source": [
    "## 🧠 Step 3: Feature Engineering"
   ]
  },
  {
   "cell_type": "code",
   "execution_count": null,
   "id": "31494bfe",
   "metadata": {},
   "outputs": [],
   "source": [
    "# Create FamilySize and IsAlone\n",
    "df['FamilySize'] = df['SibSp'] + df['Parch'] + 1\n",
    "df['IsAlone'] = (df['FamilySize'] == 1).astype(int)\n",
    "\n",
    "# Extract title from name\n",
    "df['Title'] = df['Name'].str.extract(' ([A-Za-z]+)\\.', expand=False)\n",
    "df['Title'] = le.fit_transform(df['Title'])"
   ]
  },
  {
   "cell_type": "markdown",
   "id": "f0294543",
   "metadata": {},
   "source": [
    "## 📊 Optional: Quick Visualization"
   ]
  },
  {
   "cell_type": "code",
   "execution_count": null,
   "id": "33b45d29",
   "metadata": {},
   "outputs": [],
   "source": [
    "sns.countplot(x='Survived', hue='Sex', data=df)\n",
    "plt.title('Survival Count by Sex')\n",
    "plt.show()"
   ]
  },
  {
   "cell_type": "markdown",
   "id": "4c041a5d",
   "metadata": {},
   "source": [
    "## 💾 Step 4: Save Cleaned Dataset"
   ]
  },
  {
   "cell_type": "code",
   "execution_count": null,
   "id": "6ec6c920",
   "metadata": {},
   "outputs": [],
   "source": [
    "df.to_csv('cleaned_titanic_data.csv', index=False)\n",
    "print('✅ Cleaned data saved to cleaned_titanic_data.csv')"
   ]
  }
 ],
 "metadata": {},
 "nbformat": 4,
 "nbformat_minor": 5
}
